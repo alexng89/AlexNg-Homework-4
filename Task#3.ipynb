{
 "cells": [
  {
   "cell_type": "code",
   "execution_count": 7,
   "metadata": {},
   "outputs": [
    {
     "name": "stdout",
     "output_type": "stream",
     "text": [
      "This is what I do on a daily basis:\n",
      "I wake up.\n",
      "I wash up.\n",
      "I dress up.\n",
      "I go to work.\n",
      "I get breakfast.\n",
      "I chug coffee.\n",
      "I work work work.\n",
      "I eat lunch.\n",
      "I work work work.\n",
      "I chug another coffee.\n",
      "I work work work.\n",
      "I leave work (finally!).\n",
      "I (try to) go to the gym.\n",
      "I eat dinner.\n",
      "I shower.\n",
      "I watch TV.\n",
      "I sleep.\n",
      "I dream about not finishing my Python homework.\n",
      "I realize the Python homework was just a dream.\n",
      "I sleep soundly.\n"
     ]
    }
   ],
   "source": [
    "DailyTasks = ('wake up', 'wash up', 'dress up', 'go to work', 'get breakfast', 'chug coffee',\n",
    "              'work work work', 'eat lunch', 'work work work', 'chug another coffee', \n",
    "              'work work work', 'leave work (finally!)', '(try to) go to the gym', \n",
    "              'eat dinner', 'shower', 'watch TV', 'sleep', \n",
    "              'dream about not finishing my Python homework', \n",
    "              'realize the Python homework was just a dream', 'sleep soundly')\n",
    "\n",
    "print(\"This is what I do on a daily basis:\")\n",
    "for i in DailyTasks:\n",
    "    print(\"I {}.\".format(i))"
   ]
  },
  {
   "cell_type": "code",
   "execution_count": null,
   "metadata": {},
   "outputs": [],
   "source": []
  }
 ],
 "metadata": {
  "kernelspec": {
   "display_name": "Python 3",
   "language": "python",
   "name": "python3"
  },
  "language_info": {
   "codemirror_mode": {
    "name": "ipython",
    "version": 3
   },
   "file_extension": ".py",
   "mimetype": "text/x-python",
   "name": "python",
   "nbconvert_exporter": "python",
   "pygments_lexer": "ipython3",
   "version": "3.6.4"
  }
 },
 "nbformat": 4,
 "nbformat_minor": 2
}
