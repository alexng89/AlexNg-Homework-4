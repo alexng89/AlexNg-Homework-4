{
 "cells": [
  {
   "cell_type": "code",
   "execution_count": 17,
   "metadata": {},
   "outputs": [
    {
     "name": "stdout",
     "output_type": "stream",
     "text": [
      "We like to watch the Harry Potter series.\n",
      "We like to watch the Hobbit series.\n",
      "I like to watch the Jaws series, but she doesn't.\n",
      "I like to watch the LOTR series, but she doesn't.\n"
     ]
    }
   ],
   "source": [
    "MoviesILike = {'Harry Potter', 'LOTR', 'Hobbit', 'Jaws'}\n",
    "MoviesSheLikes = {'Disney', 'Hobbit', 'Harry Potter', 'Horror'}\n",
    "\n",
    "CommonMovies = MoviesILike.intersection(MoviesSheLikes)\n",
    "UncommonMovies = MoviesILike.difference(MoviesSheLikes)\n",
    "\n",
    "for i in CommonMovies:\n",
    "    print(\"We like to watch the {} series.\".format(i))\n",
    "    \n",
    "for j in UncommonMovies:\n",
    "    print(\"I like to watch the {} series, but she doesn't.\".format(j))\n",
    "\n",
    "    \n",
    "    "
   ]
  },
  {
   "cell_type": "code",
   "execution_count": null,
   "metadata": {},
   "outputs": [],
   "source": []
  }
 ],
 "metadata": {
  "kernelspec": {
   "display_name": "Python 3",
   "language": "python",
   "name": "python3"
  },
  "language_info": {
   "codemirror_mode": {
    "name": "ipython",
    "version": 3
   },
   "file_extension": ".py",
   "mimetype": "text/x-python",
   "name": "python",
   "nbconvert_exporter": "python",
   "pygments_lexer": "ipython3",
   "version": "3.6.4"
  }
 },
 "nbformat": 4,
 "nbformat_minor": 2
}
